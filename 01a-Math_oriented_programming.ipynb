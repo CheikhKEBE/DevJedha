{
 "cells": [
  {
   "cell_type": "markdown",
   "metadata": {
    "colab_type": "text",
    "id": "ARXMbV_Vp5qc"
   },
   "source": [
    "# Mathematically Oriented Programming"
   ]
  },
  {
   "cell_type": "markdown",
   "metadata": {
    "colab_type": "text",
    "id": "1JYqlALqp73y"
   },
   "source": [
    "_Mathematics, in general, we don't like to do it. Especially when it involves repeating operations, over and over again. Let's be real lazy and create a class that will do the operations we want for us._"
   ]
  },
  {
   "cell_type": "markdown",
   "metadata": {
    "colab_type": "text",
    "id": "Lc3ol0PSp98l"
   },
   "source": [
    "1. _Create a class to be called \"math.\"_\n",
    "2. _This class will have no internal attributes, so you don't need to define an init() _\n",
    "3. _Create a method that will compute the square root of any number._\n",
    "4. _Create a method that will calculate the average of any list of numbers._\n",
    "5. _Create a method to find out if a number is even or odd_.\n",
    "6. _Finally, create a method that will give the total sum of a list of numbers._\n"
   ]
  },
  {
   "cell_type": "code",
   "execution_count": 109,
   "metadata": {
    "colab": {
     "base_uri": "https://localhost:8080/",
     "height": 104
    },
    "colab_type": "code",
    "id": "xFLBlgj1pndw",
    "outputId": "44506b62-75cb-416a-895e-848ef632a530"
   },
   "outputs": [],
   "source": [
    "#####################################################################\n",
    "#Author : Cheikh Silèye KEBE\n",
    "#Date : 13/03/2021\n",
    "#####################################################################\n",
    "\n",
    "class Math():\n",
    "    \n",
    "    #compute the square root of any number\n",
    "    def square_root(x) :\n",
    "        result =  x**0.5\n",
    "        print(\"The square root of  {} is {:0.1f} \".format(x, result))\n",
    "        \n",
    "        \n",
    "    #Calculate the average of any list of numbers       \n",
    "    def average(my_list):\n",
    "        somme = 0\n",
    "        nb_elements = 0\n",
    "        for item in my_list:\n",
    "            somme += item\n",
    "            nb_elements += 1\n",
    "        mean = somme / nb_elements\n",
    "        print(\"The average of {} is  {:0.1f} \".format(tuple(my_list), mean))\n",
    "        #print(mean)\n",
    "        \n",
    "    #Method to find out if a number is even or odd    \n",
    "    def odd (x) :\n",
    "        if x % 2 != 0 :\n",
    "            print(\"{} is  odd \".format(x))\n",
    "        else :\n",
    "              print(\"{} is not odd \".format(x))\n",
    "\n",
    "    #Give the total sum of a list of numbers              \n",
    "    def total(my_list):\n",
    "        sums = 0\n",
    "        for item in my_list:\n",
    "            sums += item\n",
    "\n",
    "        print(\"The total of {} is {:0.1f}\".format(tuple(my_list), sums))\n",
    "        #print(sums)\n",
    "\n",
    "        \n",
    "            "
   ]
  },
  {
   "cell_type": "code",
   "execution_count": 110,
   "metadata": {
    "colab": {},
    "colab_type": "code",
    "id": "zTLqevqKqBp0"
   },
   "outputs": [
    {
     "name": "stdout",
     "output_type": "stream",
     "text": [
      "The square root of  9 is 3.0 \n",
      "The average of (10, 30, 20, 10) is  17.5 \n",
      "4 is not odd \n",
      "11 is  odd \n",
      "The total of (10, 30, 20, 10) is 70.0\n"
     ]
    }
   ],
   "source": [
    "math1 = Math\n",
    "math1.square_root(9)\n",
    "list1 = [10, 30, 20,10]\n",
    "math1.average(list1)\n",
    "math1.odd(4)\n",
    "math1.odd(11)\n",
    "math1.total(list1)"
   ]
  },
  {
   "cell_type": "code",
   "execution_count": null,
   "metadata": {},
   "outputs": [],
   "source": []
  },
  {
   "cell_type": "code",
   "execution_count": null,
   "metadata": {},
   "outputs": [],
   "source": []
  }
 ],
 "metadata": {
  "colab": {
   "name": "Programmation Orientée Mathématiques - Exercice S1-3.ipynb",
   "provenance": [],
   "version": "0.3.2"
  },
  "kernelspec": {
   "display_name": "Python 3",
   "language": "python",
   "name": "python3"
  },
  "language_info": {
   "codemirror_mode": {
    "name": "ipython",
    "version": 3
   },
   "file_extension": ".py",
   "mimetype": "text/x-python",
   "name": "python",
   "nbconvert_exporter": "python",
   "pygments_lexer": "ipython3",
   "version": "3.8.6"
  }
 },
 "nbformat": 4,
 "nbformat_minor": 4
}
