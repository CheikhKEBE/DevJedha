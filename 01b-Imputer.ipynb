{
 "cells": [
  {
   "cell_type": "markdown",
   "metadata": {
    "colab_type": "text",
    "id": "6cqYL_Y0rfoH"
   },
   "source": [
    "# Imputer"
   ]
  },
  {
   "cell_type": "markdown",
   "metadata": {
    "colab_type": "text",
    "id": "sB61JRG-rj6v"
   },
   "source": [
    "_In data science, it's common for there to be missing values in a dataset. Let's see how we can create a class that will allow us to replace this missing value by the average of the values in the list_"
   ]
  },
  {
   "cell_type": "markdown",
   "metadata": {
    "colab_type": "text",
    "id": "nvclKDGOrlV3"
   },
   "source": [
    "1. _Create a class that we will call Imputer_.\n",
    "2. _To simplify the exercise, we will only deal with lists for the moment._\n",
    "3. _Our class will take an attribute that we will call list_.\n",
    "4. _Create an avg() function that will first remove the missing value and then replace it with the average of the list._"
   ]
  },
  {
   "cell_type": "code",
   "execution_count": 30,
   "metadata": {
    "colab": {
     "base_uri": "https://localhost:8080/",
     "height": 52
    },
    "colab_type": "code",
    "id": "4agC-7RLrQSp",
    "outputId": "c98a0475-d2f7-4e53-e3b3-e45b2c1874ff"
   },
   "outputs": [],
   "source": [
    "#####################################################################\n",
    "#Author : Cheikh Silèye KEBE\n",
    "#Date : 13/03/2021\n",
    "#####################################################################\n",
    "\n",
    "import statistics\n",
    "\n",
    "def average(my_list):\n",
    "        somme = 0\n",
    "        nb_elements = 0\n",
    "        for item in my_list:\n",
    "            somme += item\n",
    "            nb_elements += 1\n",
    "        mean = somme / nb_elements\n",
    "        return mean\n",
    "\n",
    "    \n",
    "class Imputer():\n",
    "    def __init__(self, plist) :\n",
    "        self.liste = plist\n",
    "        \n",
    "    def avg(self) :\n",
    "        no_none_list = [x for x in self.liste if \"None\" != x]\n",
    "        mean = average(no_none_list)\n",
    "        my_liste = [x if x != \"None\" else mean for x in self.liste]\n",
    "        return my_liste \n",
    "    \n",
    "    def mediane(self) :\n",
    "        no_none_list = [x for x in self.liste if \"None\" != x]\n",
    "        med = statistics.median(no_none_list)   \n",
    "        my_liste  = [x if x != \"None\" else med for x in self.liste]\n",
    "        return my_liste \n",
    "              \n",
    "\n"
   ]
  },
  {
   "cell_type": "markdown",
   "metadata": {
    "colab_type": "text",
    "id": "bc7K3aMYr9uH"
   },
   "source": [
    "# Improve Imputer\n",
    "\n",
    "_We have created our Imputer class which works very well for replacing missing values with averages. But, couldn't we also use this class to replace with a median? Try to add a method in Imputer that will allow us to replace the list with either the average or the median._"
   ]
  },
  {
   "cell_type": "code",
   "execution_count": 31,
   "metadata": {
    "colab": {
     "base_uri": "https://localhost:8080/",
     "height": 86
    },
    "colab_type": "code",
    "id": "vWlNZ5nDrqPa",
    "outputId": "b80570c6-7d61-4ee6-8da0-deefadcf6f3e"
   },
   "outputs": [
    {
     "name": "stdout",
     "output_type": "stream",
     "text": [
      "Here's a list ['None', 2, 4, 6, 'None']\n",
      "Here is  list after imputer : [4.0, 2, 4, 6, 4.0]\n",
      "Here is a list :  ['None', 2, 3, 12, 5, 6, 'None']\n",
      "Here is the list with the empty values replaced by the average : [5.6, 2, 3, 12, 5, 6, 5.6]\n",
      "Here is the list with the empty values replaced by the median : [5, 2, 3, 12, 5, 6, 5]\n"
     ]
    }
   ],
   "source": [
    "initial_list =  [\"None\", 2, 4, 6, \"None\"]\n",
    "imp = Imputer(initial_list)\n",
    "print(\"Here's a list {}\".format(initial_list))\n",
    "resultat = imp.avg()\n",
    "print(\"Here is  list after imputer : {}\".format(resultat))\n",
    "##################==================================\n",
    "initial_list2 = [\"None\", 2, 3, 12, 5, 6, \"None\"]\n",
    "imp2 = Imputer(initial_list2)\n",
    "print(\"Here is a list :  {}\".format(imp2.liste))\n",
    "resultat = imp2.avg()\n",
    "print(\"Here is the list with the empty values replaced by the average : {}\".format(resultat))\n",
    "resultat = imp2.mediane()\n",
    "print(\"Here is the list with the empty values replaced by the median : {}\".format(resultat))\n"
   ]
  },
  {
   "cell_type": "code",
   "execution_count": null,
   "metadata": {
    "colab": {},
    "colab_type": "code",
    "id": "TeloaQ3Ot-M5"
   },
   "outputs": [],
   "source": [
    "Here is a list : [None, 2, 3, 12, 5, 6, None]\n",
    "Here is the list with the empty values replaced by the average value : [5.6, 2, 3, 12, 5, 6, 5.6]\n",
    "Here is a list : [None, 2, 3, 12, 5, 6, None]\n",
    "Here is the list with the empty values replaced by the median : [5, 2, 3, 12, 5, 6, 5]"
   ]
  },
  {
   "cell_type": "code",
   "execution_count": null,
   "metadata": {},
   "outputs": [],
   "source": []
  }
 ],
 "metadata": {
  "colab": {
   "collapsed_sections": [],
   "name": "Imputer - Exercice S1-3.ipynb",
   "provenance": [],
   "version": "0.3.2"
  },
  "kernelspec": {
   "display_name": "Python 3",
   "language": "python",
   "name": "python3"
  },
  "language_info": {
   "codemirror_mode": {
    "name": "ipython",
    "version": 3
   },
   "file_extension": ".py",
   "mimetype": "text/x-python",
   "name": "python",
   "nbconvert_exporter": "python",
   "pygments_lexer": "ipython3",
   "version": "3.8.6"
  }
 },
 "nbformat": 4,
 "nbformat_minor": 4
}
