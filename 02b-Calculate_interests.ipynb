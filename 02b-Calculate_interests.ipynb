{
 "cells": [
  {
   "cell_type": "code",
   "execution_count": null,
   "metadata": {},
   "outputs": [],
   "source": []
  },
  {
   "cell_type": "code",
   "execution_count": 50,
   "metadata": {},
   "outputs": [],
   "source": [
    "###############################################################################################################################\n",
    "#Author : Cheikh Silèye KEBE\n",
    "#Date : 12/03/2021\n",
    "###############################################################################################################################\n",
    "##Imports \n",
    "import sys\n",
    "\n",
    "#Description : Function that will allow us to know how much money a user will have in total after a certain number of years\n",
    "def saving (nominal, rate, number_of_years) :\n",
    "    try :\n",
    "        \n",
    "        #Only  numbers are allowed\n",
    "        if (type(nominal) is not float or type(number_of_years) is not float or type(rate) is not float ) :\n",
    "            raise TypeError\n",
    "        \n",
    "        #Only positive numbers are allowed\n",
    "        if (nominal < 0 or number_of_years < 0 or rate < 0) :\n",
    "            raise ValueError\n",
    "        #Total amount after number of years  \n",
    "        total_amount = nominal*((1 + 0.01*rate)**number_of_years)\n",
    "        \n",
    "    except TypeError:\n",
    "             print('Argument must be floats.')\n",
    "    except ValueError:\n",
    "             print('Rate must be positive number.')\n",
    "    else:\n",
    "        print('The total amount of money you will have after you deposit {} at the end of  {} years will be {:0.2f} '.format(nominal, number_of_years, total_amount))\n",
    "\n"
   ]
  },
  {
   "cell_type": "code",
   "execution_count": 52,
   "metadata": {},
   "outputs": [
    {
     "name": "stdout",
     "output_type": "stream",
     "text": [
      "The total amount of money you will have after you deposit 10000.0 at the end of  10.0 years will be 25937.42 \n"
     ]
    }
   ],
   "source": [
    "saving (10000.0, 10.0, 10.0)"
   ]
  },
  {
   "cell_type": "code",
   "execution_count": 53,
   "metadata": {},
   "outputs": [
    {
     "name": "stdout",
     "output_type": "stream",
     "text": [
      "Rate must be positive number.\n"
     ]
    }
   ],
   "source": [
    "saving (10000.0, -0.1, 10.0)"
   ]
  },
  {
   "cell_type": "code",
   "execution_count": 55,
   "metadata": {},
   "outputs": [
    {
     "name": "stdout",
     "output_type": "stream",
     "text": [
      "Argument must be floats.\n"
     ]
    }
   ],
   "source": [
    "saving (10000.0, 10.0, \"toto\")"
   ]
  },
  {
   "cell_type": "code",
   "execution_count": null,
   "metadata": {},
   "outputs": [],
   "source": []
  },
  {
   "cell_type": "code",
   "execution_count": null,
   "metadata": {},
   "outputs": [],
   "source": []
  }
 ],
 "metadata": {
  "kernelspec": {
   "display_name": "Python 3",
   "language": "python",
   "name": "python3"
  },
  "language_info": {
   "codemirror_mode": {
    "name": "ipython",
    "version": 3
   },
   "file_extension": ".py",
   "mimetype": "text/x-python",
   "name": "python",
   "nbconvert_exporter": "python",
   "pygments_lexer": "ipython3",
   "version": "3.8.6"
  }
 },
 "nbformat": 4,
 "nbformat_minor": 4
}
